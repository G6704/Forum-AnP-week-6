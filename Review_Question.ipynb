{
 "cells": [
  {
   "cell_type": "markdown",
   "metadata": {},
   "source": [
    "Exercise 1\n",
    "• Add a key to inventory called 'pocket'.\n",
    "• Set the value of 'pocket' to be a list consisting of the strings 'seashell', 'strange berry', and 'lint'.\n",
    "• .sort()the items in the list stored under the 'backpack' key.\n",
    "• Then .remove('dagger') from the list of items stored under the 'backpack' key.\n",
    "• Add 50 to the number stored under the 'gold' key."
   ]
  },
  {
   "cell_type": "code",
   "execution_count": 1,
   "metadata": {},
   "outputs": [
    {
     "name": "stdout",
     "output_type": "stream",
     "text": [
      "{'gold': 550, 'pouch': ['flint', 'twine', 'gemstone'], 'backpack': ['bedroll', 'bread loaf', 'xylophone'], 'pocket': ['seashell', 'strange berry', 'lint']}\n"
     ]
    }
   ],
   "source": [
    "inventory = {\n",
    "    'gold' : 500,\n",
    "    'pouch' : ['flint', 'twine', 'gemstone'],\n",
    "    'backpack' : ['xylophone','dagger', 'bedroll','bread loaf']\n",
    "}\n",
    "\n",
    "inventory['pocket'] = ['seashell','strange berry','lint']\n",
    "inventory['backpack'].sort()\n",
    "inventory['backpack'].remove('dagger')\n",
    "inventory['gold']+=50\n",
    "print(inventory)"
   ]
  },
  {
   "cell_type": "markdown",
   "metadata": {},
   "source": [
    "Exercise 2"
   ]
  },
  {
   "cell_type": "code",
   "execution_count": 3,
   "metadata": {},
   "outputs": [
    {
     "name": "stdout",
     "output_type": "stream",
     "text": [
      "banana\n",
      "price 4\n",
      "stock 10 \n",
      "\n",
      "apple\n",
      "price 2\n",
      "stock 0 \n",
      "\n",
      "orange\n",
      "price 1.5\n",
      "stock 20 \n",
      "\n",
      "pear\n",
      "price 3\n",
      "stock 12 \n",
      "\n",
      "banana\n",
      "40\n",
      "apple\n",
      "0\n",
      "orange\n",
      "30.0\n",
      "pear\n",
      "36\n",
      "Total:  106.0\n"
     ]
    }
   ],
   "source": [
    "price = {\"banana\": 4, \"apple\": 2, \"orange\": 1.5, \"pear\": 3}\n",
    "\n",
    "#for the stocks value it was all inputed by me except for the apple as i took it from the following question\n",
    "stock = {'banana' : 10, 'apple' : 0, 'orange' : 20, 'pear' : 12}\n",
    "for i in price:\n",
    "    print(i)\n",
    "    print('price', price[i])\n",
    "    print('stock', stock[i], '\\n')\n",
    "\n",
    "total = 0\n",
    "\n",
    "for i in price:\n",
    "    print(i)\n",
    "    total_for_item = price[i]*stock[i]\n",
    "    print(total_for_item)\n",
    "    total = total + total_for_item\n",
    "\n",
    "print('Total: ',total)\n"
   ]
  },
  {
   "cell_type": "markdown",
   "metadata": {},
   "source": [
    "Exercise 3"
   ]
  },
  {
   "cell_type": "code",
   "execution_count": 5,
   "metadata": {},
   "outputs": [
    {
     "name": "stdout",
     "output_type": "stream",
     "text": [
      "5.5\n"
     ]
    }
   ],
   "source": [
    "groceries = ['banana', 'orange', 'apple']\n",
    "\n",
    "stock = {\"banana\": 6, \"apple\": 0, \"orange\": 32, \"pear\": 15}\n",
    "\n",
    "prices = {\"banana\": 4, \"apple\": 2, \"orange\": 1.5, \"pear\": 3}\n",
    "\n",
    "def compute_bill(food):\n",
    "    total = 0\n",
    "    for i in food:\n",
    "        if stock[i] > 0:\n",
    "            total += prices[i]\n",
    "            stock[i] -= 1\n",
    "    print(total)\n",
    "\n",
    "compute_bill(groceries)"
   ]
  },
  {
   "cell_type": "markdown",
   "metadata": {},
   "source": [
    "Exercise 4"
   ]
  },
  {
   "cell_type": "code",
   "execution_count": 6,
   "metadata": {},
   "outputs": [
    {
     "name": "stdout",
     "output_type": "stream",
     "text": [
      "Name: Eren\n",
      "Homeworks: [90.0, 97.0, 75.0, 92.0]\n",
      "Quizzes: [88.0, 40.0, 94.0]\n",
      "Tests: [75.0, 90.0] \n",
      "\n",
      "Name: Mikasa\n",
      "Homeworks: [100.0, 92.0, 98.0, 100.0]\n",
      "Quizzes: [82.0, 83.0, 91.0]\n",
      "Tests: [89.0, 97.0] \n",
      "\n",
      "Name: Armin\n",
      "Homeworks: [0.0, 87.0, 75.0, 22.0]\n",
      "Quizzes: [0.0, 75.0, 78.0]\n",
      "Tests: [100.0, 100.0] \n",
      "\n",
      "Eren's score: 80.5\n",
      "Eren's grade: B \n",
      "\n",
      "Mikasa's score: 91.1\n",
      "Mikasa's grade: A \n",
      "\n",
      "Armin's score: 79.9\n",
      "Armin's grade: C \n",
      "\n",
      "The Class average: 83.9\n",
      "Grade for class average: B\n"
     ]
    }
   ],
   "source": [
    "eren = {\n",
    " \"name\": \"Eren\",\n",
    " \"homework\": [90.0,97.0,75.0,92.0],\n",
    " \"quizzes\": [88.0,40.0,94.0],\n",
    " \"tests\": [75.0,90.0]\n",
    "}\n",
    "mikasa = {\n",
    "\"name\": \"Mikasa\",\n",
    "\"homework\": [100.0, 92.0, 98.0, 100.0],\n",
    "\"quizzes\": [82.0, 83.0, 91.0],\n",
    "\"tests\": [89.0, 97.0]\n",
    "}\n",
    "armin = {\n",
    "\"name\": \"Armin\",\n",
    "\"homework\": [0.0, 87.0, 75.0, 22.0],\n",
    "\"quizzes\": [0.0, 75.0, 78.0],\n",
    "\"tests\": [100.0, 100.0]\n",
    "}\n",
    "\n",
    "students = [eren, mikasa, armin]\n",
    "\n",
    "for student in students:\n",
    "    print(\"Name:\", student[\"name\"])\n",
    "    print(\"Homeworks:\", student[\"homework\"])\n",
    "    print(\"Quizzes:\", student[\"quizzes\"])\n",
    "    print(\"Tests:\", student[\"tests\"], \"\\n\")\n",
    "\n",
    "def average(numbers):\n",
    "    total = float(sum(numbers))\n",
    "    average = total / len(numbers)\n",
    "    return average\n",
    "\n",
    "def get_average(student):\n",
    "    homework = average(student[\"homework\"])\n",
    "    quizzes = average(student[\"quizzes\"])\n",
    "    tests = average(student[\"tests\"])\n",
    "    final_average = 0.1 * homework + 0.3 * quizzes + 0.6 * tests\n",
    "    return final_average\n",
    "\n",
    "def get_letter_grade(score):\n",
    "    if score >= 90:\n",
    "        return \"A\"\n",
    "    elif score >= 80:\n",
    "        return \"B\"\n",
    "    elif score >= 70:\n",
    "        return \"C\"\n",
    "    elif score >= 60:\n",
    "        return \"D\"\n",
    "    else:\n",
    "        return \"F\"\n",
    "\n",
    "for i in students:\n",
    "    print(i[\"name\"] + \"'s score:\", round(get_average(i), 1))\n",
    "    print(i[\"name\"] + \"'s grade:\", get_letter_grade(get_average(i)), \"\\n\")\n",
    "\n",
    "def get_class_average(students):\n",
    "    results = []\n",
    "    for i in students:\n",
    "        results.append(get_average(i))\n",
    "    return average(results)\n",
    "\n",
    "print(\"The Class average:\", round(get_class_average(students), 1))\n",
    "print(\"Grade for class average:\", get_letter_grade(get_class_average(students)))"
   ]
  }
 ],
 "metadata": {
  "kernelspec": {
   "display_name": "Python 3.10.7 64-bit",
   "language": "python",
   "name": "python3"
  },
  "language_info": {
   "codemirror_mode": {
    "name": "ipython",
    "version": 3
   },
   "file_extension": ".py",
   "mimetype": "text/x-python",
   "name": "python",
   "nbconvert_exporter": "python",
   "pygments_lexer": "ipython3",
   "version": "3.10.7"
  },
  "orig_nbformat": 4,
  "vscode": {
   "interpreter": {
    "hash": "aee8b7b246df8f9039afb4144a1f6fd8d2ca17a180786b69acc140d282b71a49"
   }
  }
 },
 "nbformat": 4,
 "nbformat_minor": 2
}
